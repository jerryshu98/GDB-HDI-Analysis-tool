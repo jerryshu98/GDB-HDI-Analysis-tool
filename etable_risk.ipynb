{
 "cells": [
  {
   "cell_type": "markdown",
   "metadata": {},
   "source": [
    "### Function Descriptions\n",
    "\n",
    "#### 1. `std_risk(file_path, location_name, age_name, year_start, year_end, save_path)`\n",
    "- **Purpose:** Creates age-standardized risk tables for different causes across specified locations and age groups.\n",
    "- **Parameters:**\n",
    "  - `file_path`: The path to the CSV file containing the data.\n",
    "  - `location_name`: The name of the location to filter the data (default: 'Sub-Saharan Africa').\n",
    "  - `age_name`: The age group to filter the data (default: 'All ages').\n",
    "  - `year_start`: The start year for comparison (default: 1990).\n",
    "  - `year_end`: The end year for comparison (default: 2021).\n",
    "  - `save_path`: Optional path to save the resulting tables as CSV files for each cause.\n",
    "- **Return:** A dictionary containing tables for each `cause_name`, with rows representing risk factors (`rei_name`) and columns showing values for the start year, end year, and percentage changes, formatted as `val (lower - upper)`.\n",
    "\n",
    "#### 2. `crude_risk(file_path, location_name, age_name, year_start, year_end, save_path)`\n",
    "- **Purpose:** Creates crude risk tables for different causes across specified locations and age groups.\n",
    "- **Parameters:**\n",
    "  - `file_path`: The path to the CSV file containing the data.\n",
    "  - `location_name`: The name of the location to filter the data (default: 'Sub-Saharan Africa').\n",
    "  - `age_name`: The age group to filter the data (default: 'All ages').\n",
    "  - `year_start`: The start year for comparison (default: 1990).\n",
    "  - `year_end`: The end year for comparison (default: 2021).\n",
    "  - `save_path`: Optional path to save the resulting tables as CSV files for each cause.\n",
    "- **Return:** A dictionary containing tables for each `cause_name`, with rows representing risk factors (`rei_name`) and columns showing values for the start year, end year, and percentage changes, formatted as `val (lower - upper)`.\n"
   ]
  },
  {
   "cell_type": "code",
   "execution_count": 1,
   "metadata": {},
   "outputs": [],
   "source": [
    "from utility.sup_function2 import *"
   ]
  },
  {
   "cell_type": "code",
   "execution_count": 6,
   "metadata": {},
   "outputs": [
    {
     "name": "stdout",
     "output_type": "stream",
     "text": [
      "['Sub-Saharan Africa']\n",
      "['All causes' 'Osteoarthritis' 'Osteoarthritis hip' 'Osteoarthritis knee']\n",
      "All causes\n",
      "Osteoarthritis\n",
      "Osteoarthritis hip\n",
      "Osteoarthritis knee\n"
     ]
    }
   ],
   "source": [
    "std_risk_df = std_risk('./data/risk_factor/risk_all.csv', save_path='results/risk/std_risk_')"
   ]
  },
  {
   "cell_type": "code",
   "execution_count": 3,
   "metadata": {},
   "outputs": [
    {
     "data": {
      "text/html": [
       "<div>\n",
       "<style scoped>\n",
       "    .dataframe tbody tr th:only-of-type {\n",
       "        vertical-align: middle;\n",
       "    }\n",
       "\n",
       "    .dataframe tbody tr th {\n",
       "        vertical-align: top;\n",
       "    }\n",
       "\n",
       "    .dataframe thead th {\n",
       "        text-align: right;\n",
       "    }\n",
       "</style>\n",
       "<table border=\"1\" class=\"dataframe\">\n",
       "  <thead>\n",
       "    <tr style=\"text-align: right;\">\n",
       "      <th>measure_name</th>\n",
       "      <th>DALYs_1990</th>\n",
       "      <th>DALYs_2021</th>\n",
       "      <th>DALYs_change_%</th>\n",
       "    </tr>\n",
       "    <tr>\n",
       "      <th>rei_name</th>\n",
       "      <th></th>\n",
       "      <th></th>\n",
       "      <th></th>\n",
       "    </tr>\n",
       "  </thead>\n",
       "  <tbody>\n",
       "    <tr>\n",
       "      <th>All risk factors</th>\n",
       "      <td>35.65 (-2.81 - 104.14)</td>\n",
       "      <td>54.57 (-4.65 - 153.46)</td>\n",
       "      <td>53.07 (65.97 - 47.35)</td>\n",
       "    </tr>\n",
       "    <tr>\n",
       "      <th>High body-mass index</th>\n",
       "      <td>35.65 (-2.81 - 104.14)</td>\n",
       "      <td>54.57 (-4.65 - 153.46)</td>\n",
       "      <td>53.07 (65.97 - 47.35)</td>\n",
       "    </tr>\n",
       "    <tr>\n",
       "      <th>Metabolic risks</th>\n",
       "      <td>35.65 (-2.81 - 104.14)</td>\n",
       "      <td>54.57 (-4.65 - 153.46)</td>\n",
       "      <td>53.07 (65.97 - 47.35)</td>\n",
       "    </tr>\n",
       "  </tbody>\n",
       "</table>\n",
       "</div>"
      ],
      "text/plain": [
       "measure_name                      DALYs_1990              DALYs_2021  \\\n",
       "rei_name                                                               \n",
       "All risk factors      35.65 (-2.81 - 104.14)  54.57 (-4.65 - 153.46)   \n",
       "High body-mass index  35.65 (-2.81 - 104.14)  54.57 (-4.65 - 153.46)   \n",
       "Metabolic risks       35.65 (-2.81 - 104.14)  54.57 (-4.65 - 153.46)   \n",
       "\n",
       "measure_name                 DALYs_change_%  \n",
       "rei_name                                     \n",
       "All risk factors      53.07 (65.97 - 47.35)  \n",
       "High body-mass index  53.07 (65.97 - 47.35)  \n",
       "Metabolic risks       53.07 (65.97 - 47.35)  "
      ]
     },
     "execution_count": 3,
     "metadata": {},
     "output_type": "execute_result"
    }
   ],
   "source": [
    "std_risk_df['Osteoarthritis']"
   ]
  },
  {
   "cell_type": "code",
   "execution_count": 7,
   "metadata": {},
   "outputs": [
    {
     "name": "stdout",
     "output_type": "stream",
     "text": [
      "All causes\n",
      "Osteoarthritis\n",
      "Osteoarthritis hip\n",
      "Osteoarthritis knee\n"
     ]
    }
   ],
   "source": [
    "crude_risk_df= crude_risk('./data/risk_factor/risk_all.csv', save_path='results/risk/crude_risk_')"
   ]
  },
  {
   "cell_type": "code",
   "execution_count": 8,
   "metadata": {},
   "outputs": [
    {
     "data": {
      "text/html": [
       "<div>\n",
       "<style scoped>\n",
       "    .dataframe tbody tr th:only-of-type {\n",
       "        vertical-align: middle;\n",
       "    }\n",
       "\n",
       "    .dataframe tbody tr th {\n",
       "        vertical-align: top;\n",
       "    }\n",
       "\n",
       "    .dataframe thead th {\n",
       "        text-align: right;\n",
       "    }\n",
       "</style>\n",
       "<table border=\"1\" class=\"dataframe\">\n",
       "  <thead>\n",
       "    <tr style=\"text-align: right;\">\n",
       "      <th>measure_name</th>\n",
       "      <th>DALYs_1990</th>\n",
       "      <th>DALYs_2021</th>\n",
       "      <th>DALYs_change_%</th>\n",
       "    </tr>\n",
       "    <tr>\n",
       "      <th>rei_name</th>\n",
       "      <th></th>\n",
       "      <th></th>\n",
       "      <th></th>\n",
       "    </tr>\n",
       "  </thead>\n",
       "  <tbody>\n",
       "    <tr>\n",
       "      <th>All risk factors</th>\n",
       "      <td>11.57 (-0.93 - 33.92)</td>\n",
       "      <td>17.94 (-1.56 - 50.2)</td>\n",
       "      <td>55.04 (68.59 - 47.98)</td>\n",
       "    </tr>\n",
       "    <tr>\n",
       "      <th>High body-mass index</th>\n",
       "      <td>11.57 (-0.93 - 33.92)</td>\n",
       "      <td>17.94 (-1.56 - 50.2)</td>\n",
       "      <td>55.04 (68.59 - 47.98)</td>\n",
       "    </tr>\n",
       "    <tr>\n",
       "      <th>Metabolic risks</th>\n",
       "      <td>11.57 (-0.93 - 33.92)</td>\n",
       "      <td>17.94 (-1.56 - 50.2)</td>\n",
       "      <td>55.04 (68.59 - 47.98)</td>\n",
       "    </tr>\n",
       "  </tbody>\n",
       "</table>\n",
       "</div>"
      ],
      "text/plain": [
       "measure_name                     DALYs_1990            DALYs_2021  \\\n",
       "rei_name                                                            \n",
       "All risk factors      11.57 (-0.93 - 33.92)  17.94 (-1.56 - 50.2)   \n",
       "High body-mass index  11.57 (-0.93 - 33.92)  17.94 (-1.56 - 50.2)   \n",
       "Metabolic risks       11.57 (-0.93 - 33.92)  17.94 (-1.56 - 50.2)   \n",
       "\n",
       "measure_name                 DALYs_change_%  \n",
       "rei_name                                     \n",
       "All risk factors      55.04 (68.59 - 47.98)  \n",
       "High body-mass index  55.04 (68.59 - 47.98)  \n",
       "Metabolic risks       55.04 (68.59 - 47.98)  "
      ]
     },
     "execution_count": 8,
     "metadata": {},
     "output_type": "execute_result"
    }
   ],
   "source": [
    "crude_risk_df['Osteoarthritis']"
   ]
  }
 ],
 "metadata": {
  "kernelspec": {
   "display_name": "MIT_test",
   "language": "python",
   "name": "python3"
  },
  "language_info": {
   "codemirror_mode": {
    "name": "ipython",
    "version": 3
   },
   "file_extension": ".py",
   "mimetype": "text/x-python",
   "name": "python",
   "nbconvert_exporter": "python",
   "pygments_lexer": "ipython3",
   "version": "3.9.18"
  }
 },
 "nbformat": 4,
 "nbformat_minor": 2
}
